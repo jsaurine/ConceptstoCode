{
  "cells": [
    {
      "cell_type": "markdown",
      "metadata": {
        "id": "view-in-github",
        "colab_type": "text"
      },
      "source": [
        "<a href=\"https://colab.research.google.com/github/jsaurine/ConceptstoCode/blob/main/600-software-automation/611_lab_decision_trees.ipynb\" target=\"_parent\"><img src=\"https://colab.research.google.com/assets/colab-badge.svg\" alt=\"Open In Colab\"/></a>"
      ]
    },
    {
      "cell_type": "markdown",
      "source": [
        "# Lab 611: Constructing a decision tree (manual split selection)\n",
        "\n",
        "In this activity you will **manually** explore a subset of the Titanic dataset and decide:\n",
        "- the **root question** (first split) that gives the highest qualitative gain, and\n",
        "- the **next best split** under one branch.\n",
        "\n",
        "Use the interactive table to **filter** and **sort** columns, then tally outcomes to justify your choice.\n",
        "\n",
        "When ready, press **Run** on the next cell (Setup) and then **Run** on the Data cell.\n",
        "\n",
        "You will draw your tree in an embedded Excalidraw and add short written justifications."
      ],
      "metadata": {
        "id": "9wRKqEk2jDWK"
      }
    },
    {
      "cell_type": "markdown",
      "metadata": {
        "id": "QRvogNNBPQom"
      },
      "source": [
        "# Lab 611: Constructing a decision tree (manual split selection)\n",
        "\n",
        "In this activity you will **manually** explore a subset of the Titanic dataset and decide:\n",
        "- the **root question** (first split) that gives the highest qualitative gain, and\n",
        "- the **next best split** under one branch.\n",
        "\n",
        "Use the interactive table to **filter** and **sort** columns, then tally outcomes to justify your choice.\n",
        "\n",
        "When ready, press **Run** on the next cell (Setup) and then **Run** on the Data cell.\n",
        "\n",
        "You will draw your tree in an embedded Excalidraw and add short written justifications."
      ]
    },
    {
      "cell_type": "code",
      "source": [
        "#@title Setup\n",
        "#@markdown Press ▶️ **Run** once. This enables interactive DataFrames and imports pandas.\n",
        "import pandas as pd\n",
        "from google.colab import data_table\n",
        "data_table.enable_dataframe_formatter()  # makes DataFrames interactive by default\n",
        "pd.options.display.max_rows = 25"
      ],
      "metadata": {
        "cellView": "form",
        "id": "ZwtlYi08ia9e"
      },
      "execution_count": null,
      "outputs": []
    },
    {
      "cell_type": "code",
      "source": [
        "#@title Load Titanic sample dataset\n",
        "#@markdown Use the column menus to **Filter** or **Sort**. Try these exploratory filters:\n",
        "#@markdown\n",
        "#@markdown • `Sex` = female, then compare Survived counts\n",
        "#@markdown • `Pclass` = 1 vs 3, then compare Survived\n",
        "#@markdown • `Age` < 12 (type in a custom filter) to test a “child” rule\n",
        "#@markdown • Combine filters (e.g. `Sex` = female AND `Pclass` = 3) to explore second splits\n",
        "url = \"https://raw.githubusercontent.com/datasciencedojo/datasets/master/titanic.csv\"\n",
        "titanic = pd.read_csv(url)\n",
        "\n",
        "# Keep only the columns we’ll reason about for a simple, manual tree\n",
        "cols = [\"Survived\",\"Pclass\",\"Sex\",\"Age\",\"SibSp\",\"Parch\",\"Fare\",\"Embarked\"]\n",
        "df = titanic[cols].copy()\n",
        "\n",
        "# Small, tidy sample so counting by eye is doable; remove obvious nulls for this lab\n",
        "df = df.dropna(subset=[\"Sex\",\"Pclass\",\"Survived\"]).head(200)\n",
        "\n",
        "# Show as interactive table (filter/sort via header menu)\n",
        "df"
      ],
      "metadata": {
        "cellView": "form",
        "id": "3A90-PCGlW8S"
      },
      "execution_count": null,
      "outputs": []
    },
    {
      "cell_type": "markdown",
      "source": [
        "## Draw your decision tree\n",
        "\n",
        "Open the Excalidraw canvas below. Add your **root question** and the **next split** under one branch.\n",
        "Include a short note near each decision explaining *why* you chose it (based on your filtered counts).\n",
        "\n",
        "Use Excalidraw to draw your tree: [Open Excalidraw in new tab](https://excalidraw.com)\n",
        "\n",
        "**Export** your diagram as an image when done (File → Export) and upload to Moodle with your written justification."
      ],
      "metadata": {
        "id": "xir0gsVbleDh"
      }
    },
    {
      "cell_type": "markdown",
      "source": [
        "## Write-up\n",
        "\n",
        "Answer briefly (3–5 sentences each):\n",
        "\n",
        "1. What root question did you choose, and what evidence (counts/proportions) supported it?\n",
        "2. Which second split did you choose under one branch, and why?\n",
        "3. What trade-offs did you notice (e.g. a split that looks strong overall but weak in a subgroup)?\n",
        "4. If you were to implement the tree in Python next (module 612), what data cleaning rules would you apply first?"
      ],
      "metadata": {
        "id": "eGNoriRTeF0s"
      }
    }
  ],
  "metadata": {
    "colab": {
      "provenance": [],
      "include_colab_link": true
    },
    "kernelspec": {
      "display_name": "Python 3",
      "name": "python3"
    },
    "language_info": {
      "name": "python"
    }
  },
  "nbformat": 4,
  "nbformat_minor": 0
}